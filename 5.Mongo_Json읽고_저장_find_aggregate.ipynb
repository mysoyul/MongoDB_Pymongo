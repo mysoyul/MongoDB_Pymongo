{
 "cells": [
  {
   "cell_type": "markdown",
   "metadata": {},
   "source": [
    "### 1. MongoDB에 웹스크래핑 데이터 저장하기\n",
    "* MongoDB에 연결\n",
    "* database와 collection 생성\n",
    "* actors.json 읽어서 insert_many()"
   ]
  },
  {
   "cell_type": "code",
   "execution_count": 1,
   "metadata": {},
   "outputs": [
    {
     "name": "stdout",
     "output_type": "stream",
     "text": [
      "MongoClient(host=['localhost:27017'], document_class=dict, tz_aware=False, connect=True)\n",
      "Database(MongoClient(host=['localhost:27017'], document_class=dict, tz_aware=False, connect=True), 'actors_db')\n",
      "Collection(Database(MongoClient(host=['localhost:27017'], document_class=dict, tz_aware=False, connect=True), 'actors_db'), 'actors')\n",
      "document 건수 2688\n"
     ]
    }
   ],
   "source": [
    "import pymongo\n",
    "import json\n",
    "\n",
    "con = pymongo.MongoClient(host='localhost',port=27017)\n",
    "print(con)\n",
    "\n",
    "actor_db = con.actors_db\n",
    "print(actor_db)\n",
    "\n",
    "#collection drop \n",
    "actor_db.drop_collection('actors')\n",
    "\n",
    "actor_col = actor_db.actors\n",
    "print(actor_col)\n",
    "\n",
    "with open('data/actors_2021.json','r',encoding='utf8') as file:\n",
    "    json_data = json.load(file)\n",
    "    actor_col.insert_many(json_data)\n",
    "\n",
    "print('document 건수', actor_col.estimated_document_count())    "
   ]
  },
  {
   "cell_type": "code",
   "execution_count": 2,
   "metadata": {},
   "outputs": [],
   "source": [
    "#컬렉션의 find()를 사용한 함수 정의\n",
    "def print_find_document(criteria, projection, field=None):\n",
    "    actor_cursor = None\n",
    "    if field is None:\n",
    "        actor_cursor = actor_col.find(criteria, projection)\n",
    "    else:    \n",
    "        actor_cursor = actor_col.find(criteria, projection).sort(field,pymongo.DESCENDING)\n",
    "    for idx, actor_document in enumerate(actor_cursor,1):\n",
    "        print(idx, actor_document)"
   ]
  },
  {
   "cell_type": "code",
   "execution_count": 3,
   "metadata": {},
   "outputs": [],
   "source": [
    "#컬렉션의 aggregate()를 사용한 함수 정의\n",
    "def print_aggregate_document(*args):\n",
    "    agg_list = []\n",
    "    for arg in args:\n",
    "        agg_list.append(arg)\n",
    "    print(agg_list)\n",
    "    \n",
    "    for agg_doc in actor_col.aggregate(agg_list):\n",
    "        print(agg_doc)"
   ]
  },
  {
   "cell_type": "code",
   "execution_count": null,
   "metadata": {},
   "outputs": [],
   "source": []
  }
 ],
 "metadata": {
  "kernelspec": {
   "display_name": "Python 3",
   "language": "python",
   "name": "python3"
  },
  "language_info": {
   "codemirror_mode": {
    "name": "ipython",
    "version": 3
   },
   "file_extension": ".py",
   "mimetype": "text/x-python",
   "name": "python",
   "nbconvert_exporter": "python",
   "pygments_lexer": "ipython3",
   "version": "3.8.5"
  }
 },
 "nbformat": 4,
 "nbformat_minor": 4
}
