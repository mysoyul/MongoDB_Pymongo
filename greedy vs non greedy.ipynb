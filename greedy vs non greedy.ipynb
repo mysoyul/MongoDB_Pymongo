{
 "cells": [
  {
   "cell_type": "markdown",
   "metadata": {},
   "source": [
    "#### greedy vs non greedy"
   ]
  },
  {
   "cell_type": "code",
   "execution_count": 14,
   "metadata": {},
   "outputs": [
    {
     "name": "stdout",
     "output_type": "stream",
     "text": [
      "['https://a.com\">a</a><br><a href=\"https://b.com']\n"
     ]
    }
   ],
   "source": [
    "import re\n",
    "# <a href=\"https://a.com\">a</a><br><a href=\"https://b.com\">b</a>\n",
    "# https://a.com\n",
    "# https://b.com\n",
    "html = \"<a href=\\\"https://a.com\\\">a</a><br><a href=\\\"https://b.com\\\">b</a>\"\n",
    "pattern = re.compile(r\"<a href=\\\"(.*)\\\">\")\n",
    "matchobj = pattern.findall(html)\n",
    "print(matchobj)\n",
    "\n",
    "#정규표현식은 기본적으로 greedy 매칭을 하기 때문이다.\n",
    "#일치하는 것을 최대한 많이 찾으려고 하다보니 위와 같은 결과가 나온 것이다.\n"
   ]
  },
  {
   "cell_type": "code",
   "execution_count": 15,
   "metadata": {},
   "outputs": [
    {
     "name": "stdout",
     "output_type": "stream",
     "text": [
      "['https://a.com', 'https://b.com']\n"
     ]
    }
   ],
   "source": [
    "html = \"<a href=\\\"https://a.com\\\">a</a><br><a href=\\\"https://b.com\\\">b</a>\"\n",
    "#?문자를 사용하면 *의 탐욕을 멈출 수 있다\n",
    "pattern = re.compile(r\"<a href=\\\"(.*?)\\\">\")\n",
    "matchobj = pattern.findall(html)\n",
    "print(matchobj)\n"
   ]
  },
  {
   "cell_type": "code",
   "execution_count": 17,
   "metadata": {},
   "outputs": [
    {
     "name": "stdout",
     "output_type": "stream",
     "text": [
      "['a', 'a', 'a', 'a', '']\n",
      "['aaaa', '']\n",
      "['aaaa']\n",
      "['aaa']\n",
      "['aa', 'aa']\n"
     ]
    }
   ],
   "source": [
    "print(re.findall('a?', 'aaaa')) #['a', 'a', 'a', 'a', '']\n",
    "print(re.findall('a*', 'aaaa')) #['aaaa', '']\n",
    "print(re.findall('a+', 'aaaa')) #['aaaa']\n",
    "print(re.findall('a{3}', 'aaaa')) #['aaa']\n",
    "print(re.findall('a{1,2}', 'aaaa')) #['aa', 'aa']"
   ]
  },
  {
   "cell_type": "markdown",
   "metadata": {},
   "source": [
    "#### Non-Greedy Question Mark Operator (??)"
   ]
  },
  {
   "cell_type": "code",
   "execution_count": 19,
   "metadata": {},
   "outputs": [
    {
     "name": "stdout",
     "output_type": "stream",
     "text": [
      "['a', 'a', 'a', 'a', '']\n",
      "['', 'a', '', 'a', '', 'a', '', 'a', '']\n"
     ]
    }
   ],
   "source": [
    "print(re.findall('a?', 'aaaa')) #['a', 'a', 'a', 'a', '']\n",
    "print(re.findall('a??', 'aaaa')) #['', 'a', '', 'a', '', 'a', '', 'a', '']"
   ]
  },
  {
   "cell_type": "markdown",
   "metadata": {},
   "source": [
    "#### Non-Greedy Asterisk Operator (*?)"
   ]
  },
  {
   "cell_type": "code",
   "execution_count": 21,
   "metadata": {},
   "outputs": [
    {
     "name": "stdout",
     "output_type": "stream",
     "text": [
      "['aaaa', '']\n",
      "['', 'a', '', 'a', '', 'a', '', 'a', '']\n"
     ]
    }
   ],
   "source": [
    "print(re.findall('a*', 'aaaa')) #['aaaa', '']\n",
    "print(re.findall('a*?', 'aaaa')) #['', 'a', '', 'a', '', 'a', '', 'a', '']"
   ]
  },
  {
   "cell_type": "markdown",
   "metadata": {},
   "source": [
    "#### Non-Greedy Plus Operator (+?)"
   ]
  },
  {
   "cell_type": "code",
   "execution_count": 23,
   "metadata": {},
   "outputs": [
    {
     "name": "stdout",
     "output_type": "stream",
     "text": [
      "['aaaa']\n",
      "['a', 'a', 'a', 'a']\n"
     ]
    }
   ],
   "source": [
    "print(re.findall('a+', 'aaaa')) #['aaaa']\n",
    "print(re.findall('a+?', 'aaaa')) #['a', 'a', 'a', 'a']"
   ]
  }
 ],
 "metadata": {
  "kernelspec": {
   "display_name": "Python 3",
   "language": "python",
   "name": "python3"
  },
  "language_info": {
   "codemirror_mode": {
    "name": "ipython",
    "version": 3
   },
   "file_extension": ".py",
   "mimetype": "text/x-python",
   "name": "python",
   "nbconvert_exporter": "python",
   "pygments_lexer": "ipython3",
   "version": "3.8.5"
  }
 },
 "nbformat": 4,
 "nbformat_minor": 4
}
