{
 "cells": [
  {
   "cell_type": "markdown",
   "metadata": {},
   "source": [
    "### 1. MongoDB에 웹스크래핑 데이터 저장하기\n",
    "* MongoDB에 연결\n",
    "* database와 collection 생성\n",
    "* actors.json 읽어서 insert_many()"
   ]
  },
  {
   "cell_type": "code",
   "execution_count": 1,
   "metadata": {},
   "outputs": [
    {
     "name": "stdout",
     "output_type": "stream",
     "text": [
      "MongoClient(host=['localhost:27017'], document_class=dict, tz_aware=False, connect=True)\n",
      "Database(MongoClient(host=['localhost:27017'], document_class=dict, tz_aware=False, connect=True), 'pymongo_db')\n",
      "Collection(Database(MongoClient(host=['localhost:27017'], document_class=dict, tz_aware=False, connect=True), 'pymongo_db'), 'actors')\n",
      "document 건수 2693\n"
     ]
    }
   ],
   "source": [
    "import pymongo\n",
    "import json\n",
    "\n",
    "con = pymongo.MongoClient(host='localhost',port=27017)\n",
    "print(con)\n",
    "\n",
    "actor_db = con.pymongo_db\n",
    "print(actor_db)\n",
    "\n",
    "#collection drop \n",
    "actor_db.drop_collection('actors')\n",
    "\n",
    "#collection 생성\n",
    "actor_col = actor_db.actors\n",
    "print(actor_col)\n",
    "\n",
    "with open('data/actors_2year.json','r',encoding='utf8') as file:\n",
    "    json_data = json.load(file)\n",
    "    actor_col.insert_many(json_data)\n",
    "\n",
    "print('document 건수', actor_col.estimated_document_count())    "
   ]
  },
  {
   "cell_type": "code",
   "execution_count": 2,
   "metadata": {},
   "outputs": [],
   "source": [
    "#컬렉션의 find()를 사용한 함수 정의\n",
    "def print_find_document(criteria, projection, field=None):\n",
    "    actor_cursor = None\n",
    "    if field is None:\n",
    "        actor_cursor = actor_col.find(criteria, projection)\n",
    "    else:    \n",
    "        actor_cursor = actor_col.find(criteria, projection).sort(field,pymongo.DESCENDING)\n",
    "    for idx, actor_document in enumerate(actor_cursor,1):\n",
    "        print(idx, actor_document)"
   ]
  },
  {
   "cell_type": "code",
   "execution_count": 4,
   "metadata": {},
   "outputs": [],
   "source": [
    "#컬렉션의 aggregate()를 사용한 함수 정의\n",
    "def print_aggregate_document(*args):\n",
    "    agg_list = []\n",
    "    for arg in args:\n",
    "        agg_list.append(arg)\n",
    "    print(agg_list)\n",
    "    \n",
    "    for agg_doc in actor_col.aggregate(agg_list):\n",
    "        print(agg_doc)"
   ]
  },
  {
   "cell_type": "code",
   "execution_count": 5,
   "metadata": {},
   "outputs": [],
   "source": [
    "def print_aggregate_document_array(agg_stage_list):\n",
    "    for agg_doc in song_col.aggregate(agg_stage_list):\n",
    "        print(agg_doc)"
   ]
  },
  {
   "cell_type": "code",
   "execution_count": 8,
   "metadata": {},
   "outputs": [
    {
     "name": "stdout",
     "output_type": "stream",
     "text": [
      "1 {'배우이름': '이병헌', '랭킹': 1, '흥행지수': 55130, '생년월일': '1970-07-12', '출연영화': ['비상선언', '콘크리트 유토피아', '승부']}\n",
      "2 {'배우이름': '황정민', '랭킹': 2, '흥행지수': 39051, '생년월일': '1970-09-01', '소속사': '예당엔터테인먼트', '출연영화': ['인질', '허쉬', '다만 악에서 구하소서']}\n",
      "3 {'배우이름': '하정우', '랭킹': 3, '흥행지수': 37503, '생년월일': '1978-03-11', '출연영화': ['야행', '보스턴 1947', '클로젯']}\n",
      "4 {'배우이름': '박정민', '랭킹': 4, '흥행지수': 26045, '생년월일': '1987-02-25', '출연영화': ['언프레임드', '지옥', '사냥의 시간']}\n",
      "5 {'배우이름': '이정재', '랭킹': 5, '흥행지수': 22020, '소속사': '아티스트컴퍼니', '출연영화': ['헌트', '헌트', '오징어 게임']}\n",
      "6 {'배우이름': '전혜진', '랭킹': 6, '흥행지수': 21583, '생년월일': '1976-08-10', '소속사': '호두엔터테인먼트', '출연영화': ['헌트', '엉클', '비밀의 숲 2']}\n",
      "7 {'배우이름': '이성민', '랭킹': 7, '흥행지수': 21427, '생년월일': '1968-10-15', '출연영화': ['다큐 인사이트 - 사이언스 워크', '대외비: 권력의 탄생(가제)', '기적']}\n",
      "8 {'배우이름': '유아인', '랭킹': 8, '흥행지수': 17990, '생년월일': '1986-10-06', '출연영화': ['하이파이브', '지옥', '소리도 없이']}\n",
      "9 {'배우이름': '곽도원', '랭킹': 9, '흥행지수': 16559, '생년월일': '1974-00-00', '출연영화': ['소방관', '강철비2: 정상회담', '국제수사']}\n",
      "10 {'배우이름': '배수지', '랭킹': 10, '흥행지수': 15236, '생년월일': '1994-10-10', '소속사': 'JYP엔터테인먼트', '출연영화': ['제57회 백상예술대상', '원더랜드', '제56회 백상예술대상']}\n"
     ]
    }
   ],
   "source": [
    "#랭킹 1 ~ 10 배우의 이름,랭킹,흥행지수,소속사,출연영화\n",
    "criteria = {\n",
    "    '랭킹':{'$lte':10}\n",
    "}\n",
    "projection = {\n",
    "    '_id':0,'배우이름':1,'랭킹':1,'흥행지수':1,'출연영화':1,'소속사':1,'생년월일':1\n",
    "}\n",
    "print_find_document(criteria, projection)"
   ]
  },
  {
   "cell_type": "code",
   "execution_count": 11,
   "metadata": {},
   "outputs": [
    {
     "name": "stdout",
     "output_type": "stream",
     "text": [
      "1 {'배우이름': '이병헌', '랭킹': 1, '흥행지수': 55130, '생년월일': '1970-07-12', '출연영화': ['비상선언', '콘크리트 유토피아', '승부']}\n",
      "2 {'배우이름': '황정민', '랭킹': 2, '흥행지수': 39051, '생년월일': '1970-09-01', '소속사': '예당엔터테인먼트', '출연영화': ['인질', '허쉬', '다만 악에서 구하소서']}\n",
      "3 {'배우이름': '하정우', '랭킹': 3, '흥행지수': 37503, '생년월일': '1978-03-11', '출연영화': ['야행', '보스턴 1947', '클로젯']}\n",
      "4 {'배우이름': '박정민', '랭킹': 4, '흥행지수': 26045, '생년월일': '1987-02-25', '출연영화': ['언프레임드', '지옥', '사냥의 시간']}\n",
      "5 {'배우이름': '이정재', '랭킹': 5, '흥행지수': 22020, '소속사': '아티스트컴퍼니', '출연영화': ['헌트', '헌트', '오징어 게임']}\n",
      "6 {'배우이름': '전혜진', '랭킹': 6, '흥행지수': 21583, '생년월일': '1976-08-10', '소속사': '호두엔터테인먼트', '출연영화': ['헌트', '엉클', '비밀의 숲 2']}\n",
      "7 {'배우이름': '이성민', '랭킹': 7, '흥행지수': 21427, '생년월일': '1968-10-15', '출연영화': ['다큐 인사이트 - 사이언스 워크', '대외비: 권력의 탄생(가제)', '기적']}\n"
     ]
    }
   ],
   "source": [
    "#흥행지수 20000 이상\n",
    "criteria = {\n",
    "    '흥행지수':{'$gt':20000}\n",
    "}\n",
    "print_find_document(criteria,projection,'흥행지수')"
   ]
  },
  {
   "cell_type": "code",
   "execution_count": null,
   "metadata": {},
   "outputs": [],
   "source": []
  }
 ],
 "metadata": {
  "kernelspec": {
   "display_name": "Python 3",
   "language": "python",
   "name": "python3"
  },
  "language_info": {
   "codemirror_mode": {
    "name": "ipython",
    "version": 3
   },
   "file_extension": ".py",
   "mimetype": "text/x-python",
   "name": "python",
   "nbconvert_exporter": "python",
   "pygments_lexer": "ipython3",
   "version": "3.8.8"
  }
 },
 "nbformat": 4,
 "nbformat_minor": 4
}
