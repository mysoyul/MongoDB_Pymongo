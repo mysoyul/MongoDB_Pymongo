{
 "cells": [
  {
   "cell_type": "code",
   "execution_count": 3,
   "metadata": {},
   "outputs": [
    {
     "name": "stdout",
     "output_type": "stream",
     "text": [
      "Name: pymongo\n",
      "Version: 4.0.1\n",
      "Summary: Python driver for MongoDB <http://www.mongodb.org>\n",
      "Home-page: http://github.com/mongodb/mongo-python-driver\n",
      "Author: The MongoDB Python Team\n",
      "Author-email: mongodb-user@googlegroups.com\n",
      "License: Apache License, Version 2.0\n",
      "Location: c:\\users\\vega2\\anaconda3\\lib\\site-packages\n",
      "Requires: \n",
      "Required-by: \n"
     ]
    }
   ],
   "source": [
    "!pip show pymongo"
   ]
  },
  {
   "cell_type": "code",
   "execution_count": 2,
   "metadata": {},
   "outputs": [
    {
     "name": "stdout",
     "output_type": "stream",
     "text": [
      "Collecting pymongo\n",
      "  Downloading pymongo-4.0.1-cp38-cp38-win_amd64.whl (354 kB)\n",
      "Installing collected packages: pymongo\n",
      "Successfully installed pymongo-4.0.1\n"
     ]
    }
   ],
   "source": [
    "!pip install pymongo"
   ]
  },
  {
   "cell_type": "markdown",
   "metadata": {},
   "source": [
    "### Pymongo을 사용해서 MongoDB 제어하기\n",
    "\n",
    "1. pymongo 라이브러리 import\n",
    "2. MongoDB 접속\n",
    "3. Database, Collection 생성\n",
    "4. Collection 의 document를 CRUD 하기\n"
   ]
  },
  {
   "cell_type": "code",
   "execution_count": 4,
   "metadata": {},
   "outputs": [
    {
     "name": "stdout",
     "output_type": "stream",
     "text": [
      "MongoClient(host=['localhost:27017'], document_class=dict, tz_aware=False, connect=True)\n"
     ]
    }
   ],
   "source": [
    "import pymongo\n",
    "\n",
    "#connetion  생성\n",
    "mongoClient = pymongo.MongoClient(\"localhost\", 27017)\n",
    "print(mongoClient)"
   ]
  },
  {
   "cell_type": "code",
   "execution_count": 6,
   "metadata": {},
   "outputs": [
    {
     "name": "stdout",
     "output_type": "stream",
     "text": [
      "Database(MongoClient(host=['localhost:27017'], document_class=dict, tz_aware=False, connect=True), 'pymongo_db')\n",
      "pymongo_db\n"
     ]
    }
   ],
   "source": [
    "#database 생성\n",
    "mydb = mongoClient.pymongo_db\n",
    "print(mydb)\n",
    "print(mydb.name)"
   ]
  },
  {
   "cell_type": "code",
   "execution_count": 138,
   "metadata": {},
   "outputs": [],
   "source": [
    "#pymongo_db 삭제\n",
    "mongoClient.drop_database('pymongo_db')"
   ]
  },
  {
   "cell_type": "code",
   "execution_count": 11,
   "metadata": {},
   "outputs": [
    {
     "name": "stdout",
     "output_type": "stream",
     "text": [
      "{'name': 'admin', 'sizeOnDisk': 40960.0, 'empty': False}\n",
      "{'name': 'config', 'sizeOnDisk': 36864.0, 'empty': False}\n",
      "{'name': 'local', 'sizeOnDisk': 40960.0, 'empty': False}\n",
      "{'name': 'mymongo_db', 'sizeOnDisk': 700416.0, 'empty': False}\n",
      "{'name': 'pymongo_db', 'sizeOnDisk': 8192.0, 'empty': False}\n"
     ]
    }
   ],
   "source": [
    "#db를 생성해도 DB 목록에 보이지 않는다.\n",
    "for db in mongoClient.list_databases():\n",
    "    print(db)"
   ]
  },
  {
   "cell_type": "code",
   "execution_count": 8,
   "metadata": {},
   "outputs": [
    {
     "name": "stdout",
     "output_type": "stream",
     "text": [
      "Collection(Database(MongoClient(host=['localhost:27017'], document_class=dict, tz_aware=False, connect=True), 'pymongo_db'), 'pymongo_col')\n",
      "pymongo_col\n"
     ]
    }
   ],
   "source": [
    "#collection 생성\n",
    "mycol = mydb.pymongo_col\n",
    "print(mycol)\n",
    "print(mycol.name)"
   ]
  },
  {
   "cell_type": "markdown",
   "metadata": {},
   "source": [
    "#### Insert_one() , insert_many() 함수"
   ]
  },
  {
   "cell_type": "code",
   "execution_count": 10,
   "metadata": {},
   "outputs": [
    {
     "name": "stdout",
     "output_type": "stream",
     "text": [
      "<pymongo.results.InsertOneResult object at 0x000001F277EF2D40>\n",
      "61baa3056c2d74384d778413\n"
     ]
    }
   ],
   "source": [
    "post = {\"author\":\"길동\",\"text\":\"첫번째 글\",\"tags\":[\"mongodb\",\"python\",\"pymongo\"]}\n",
    "result = mycol.insert_one(post)\n",
    "print(result)\n",
    "print(result.inserted_id)"
   ]
  },
  {
   "cell_type": "markdown",
   "metadata": {},
   "source": [
    "* show dbs;\n",
    "* use pymongo_db;\n",
    "* db.dropDatabase();"
   ]
  },
  {
   "cell_type": "code",
   "execution_count": 22,
   "metadata": {},
   "outputs": [
    {
     "name": "stdout",
     "output_type": "stream",
     "text": [
      "pymongo_col\n"
     ]
    }
   ],
   "source": [
    "#collection 목록\n",
    "for collect in mydb.list_collection_names():\n",
    "    print(collect)\n"
   ]
  },
  {
   "cell_type": "code",
   "execution_count": 13,
   "metadata": {},
   "outputs": [
    {
     "data": {
      "text/plain": [
       "<pymongo.cursor.Cursor at 0x1f278636b50>"
      ]
     },
     "execution_count": 13,
     "metadata": {},
     "output_type": "execute_result"
    }
   ],
   "source": [
    "mycol.find()"
   ]
  },
  {
   "cell_type": "code",
   "execution_count": 14,
   "metadata": {},
   "outputs": [
    {
     "name": "stdout",
     "output_type": "stream",
     "text": [
      "<class 'dict'>\n",
      "{'_id': ObjectId('61baa3056c2d74384d778413'), 'author': '길동', 'text': '첫번째 글', 'tags': ['mongodb', 'python', 'pymongo']}\n"
     ]
    }
   ],
   "source": [
    "for post in mycol.find():\n",
    "    print(type(post))\n",
    "    print(post)"
   ]
  },
  {
   "cell_type": "code",
   "execution_count": 15,
   "metadata": {},
   "outputs": [
    {
     "data": {
      "text/plain": [
       "1"
      ]
     },
     "execution_count": 15,
     "metadata": {},
     "output_type": "execute_result"
    }
   ],
   "source": [
    "#document 갯수 알아내기\n",
    "mycol.count_documents({})"
   ]
  },
  {
   "cell_type": "code",
   "execution_count": 16,
   "metadata": {},
   "outputs": [
    {
     "data": {
      "text/plain": [
       "<pymongo.results.InsertManyResult at 0x1f276fbfac0>"
      ]
     },
     "execution_count": 16,
     "metadata": {},
     "output_type": "execute_result"
    }
   ],
   "source": [
    "posts = [\n",
    "    {\"author\":\"둘리\",\"age\":10},\n",
    "    {\"author\":\"길동\",\"age\":20},\n",
    "    {\"author\":\"영희\",\"age\":30},\n",
    "]\n",
    "mycol.insert_many(posts)"
   ]
  },
  {
   "cell_type": "code",
   "execution_count": 17,
   "metadata": {},
   "outputs": [
    {
     "name": "stdout",
     "output_type": "stream",
     "text": [
      "4\n",
      "{'_id': ObjectId('61baa3056c2d74384d778413'), 'author': '길동', 'text': '첫번째 글', 'tags': ['mongodb', 'python', 'pymongo']}\n",
      "{'_id': ObjectId('61baa42c6c2d74384d778414'), 'author': '둘리', 'age': 10}\n",
      "{'_id': ObjectId('61baa42c6c2d74384d778415'), 'author': '길동', 'age': 20}\n",
      "{'_id': ObjectId('61baa42c6c2d74384d778416'), 'author': '영희', 'age': 30}\n"
     ]
    }
   ],
   "source": [
    "print(mycol.count_documents({}))\n",
    "for post in mycol.find({}):\n",
    "    print(post)"
   ]
  },
  {
   "cell_type": "code",
   "execution_count": 18,
   "metadata": {},
   "outputs": [
    {
     "name": "stdout",
     "output_type": "stream",
     "text": [
      "{'author': '길동', 'text': '첫번째 글'}\n",
      "{'author': '둘리', 'age': 10}\n",
      "{'author': '길동', 'age': 20}\n",
      "{'author': '영희', 'age': 30}\n"
     ]
    }
   ],
   "source": [
    "for post in mycol.find({},{\"author\":1,\"age\":1,\"text\":1,\"_id\":0}):\n",
    "    print(post)"
   ]
  },
  {
   "cell_type": "code",
   "execution_count": 19,
   "metadata": {},
   "outputs": [
    {
     "name": "stdout",
     "output_type": "stream",
     "text": [
      "{'author': '길동', 'text': '첫번째 글'}\n",
      "{'author': '둘리', 'age': 10}\n",
      "{'author': '길동', 'age': 20}\n",
      "{'author': '영희', 'age': 30}\n"
     ]
    }
   ],
   "source": [
    "for post in mycol.find({},{\"author\":1,\"age\":1,\"text\":1,\"_id\":0}).sort(\"age\",pymongo.ASCENDING):\n",
    "    print(post)"
   ]
  },
  {
   "cell_type": "code",
   "execution_count": 20,
   "metadata": {},
   "outputs": [
    {
     "name": "stdout",
     "output_type": "stream",
     "text": [
      "{'author': '영희', 'age': 30}\n",
      "{'author': '길동', 'age': 20}\n",
      "{'author': '둘리', 'age': 10}\n",
      "{'author': '길동', 'text': '첫번째 글'}\n"
     ]
    }
   ],
   "source": [
    "for post in mycol.find({},{\"author\":1,\"age\":1,\"text\":1,\"_id\":0}).sort(\"age\",pymongo.DESCENDING):\n",
    "    print(post)"
   ]
  },
  {
   "cell_type": "code",
   "execution_count": 21,
   "metadata": {},
   "outputs": [
    {
     "name": "stdout",
     "output_type": "stream",
     "text": [
      "Collection(Database(MongoClient(host=['localhost:27017'], document_class=dict, tz_aware=False, connect=True), 'pymongo_db'), 'employees')\n"
     ]
    }
   ],
   "source": [
    "#employees collection 생성하기\n",
    "emp_col = mydb.employees\n",
    "print(emp_col)"
   ]
  },
  {
   "cell_type": "code",
   "execution_count": 24,
   "metadata": {},
   "outputs": [
    {
     "data": {
      "text/plain": [
       "datetime.datetime(2016, 1, 2, 0, 0)"
      ]
     },
     "execution_count": 24,
     "metadata": {},
     "output_type": "execute_result"
    }
   ],
   "source": [
    "#datetime.py 모듈을 import\n",
    "import datetime\n",
    "\n",
    "datetime.datetime.strptime(\"2016-01-02\",\"%Y-%m-%d\")"
   ]
  },
  {
   "cell_type": "code",
   "execution_count": 25,
   "metadata": {},
   "outputs": [
    {
     "data": {
      "text/plain": [
       "datetime.datetime(2021, 12, 13, 0, 0)"
      ]
     },
     "execution_count": 25,
     "metadata": {},
     "output_type": "execute_result"
    }
   ],
   "source": [
    "#datetime 모듈안에 포함 datetime 클래스를 import\n",
    "from datetime import datetime\n",
    "datetime.strptime(\"2021-12-13\",\"%Y-%m-%d\")"
   ]
  },
  {
   "cell_type": "code",
   "execution_count": 26,
   "metadata": {},
   "outputs": [
    {
     "data": {
      "text/plain": [
       "<pymongo.results.InsertManyResult at 0x1f278ae3580>"
      ]
     },
     "execution_count": 26,
     "metadata": {},
     "output_type": "execute_result"
    }
   ],
   "source": [
    "from datetime import datetime\n",
    "\n",
    "emp_list = [\n",
    "  {\"number\":1001,\"last_name\":\"Smith\",\"first_name\":\"John\",\"salary\":62000,\"department\":\"sales\", \"hire_date\":datetime.strptime(\"2016-01-02\",\"%Y-%m-%d\")},\n",
    "  {\"number\":1002,\"last_name\":\"Anderson\",\"first_name\":\"Jane\",\"salary\":57500,\"department\":\"marketing\", \"hire_date\":datetime.strptime(\"2013-11-09\",\"%Y-%m-%d\")},\n",
    "  {\"number\":1003,\"last_name\":\"Everest\",\"first_name\":\"Brad\",\"salary\":71000,\"department\":\"sales\", \"hire_date\":datetime.strptime(\"2017-02-03\",\"%Y-%m-%d\")},\n",
    "  {\"number\":1004,\"last_name\":\"Horvath\",\"first_name\":\"Jack\",\"salary\":42000,\"department\":\"marketing\", \"hire_date\":datetime.strptime(\"2017-06-01\",\"%Y-%m-%d\")},\n",
    "]\n",
    "emp_col.insert_many(emp_list)"
   ]
  },
  {
   "cell_type": "code",
   "execution_count": 27,
   "metadata": {},
   "outputs": [
    {
     "name": "stdout",
     "output_type": "stream",
     "text": [
      "pymongo_col\n",
      "employees\n"
     ]
    }
   ],
   "source": [
    "for collect in mydb.list_collection_names():\n",
    "    print(collect)"
   ]
  },
  {
   "cell_type": "code",
   "execution_count": 28,
   "metadata": {},
   "outputs": [
    {
     "name": "stdout",
     "output_type": "stream",
     "text": [
      "{'_id': ObjectId('61baa68a6c2d74384d778417'), 'number': 1001, 'last_name': 'Smith', 'first_name': 'John', 'salary': 62000, 'department': 'sales', 'hire_date': datetime.datetime(2016, 1, 2, 0, 0)}\n",
      "{'_id': ObjectId('61baa68a6c2d74384d778418'), 'number': 1002, 'last_name': 'Anderson', 'first_name': 'Jane', 'salary': 57500, 'department': 'marketing', 'hire_date': datetime.datetime(2013, 11, 9, 0, 0)}\n",
      "{'_id': ObjectId('61baa68a6c2d74384d778419'), 'number': 1003, 'last_name': 'Everest', 'first_name': 'Brad', 'salary': 71000, 'department': 'sales', 'hire_date': datetime.datetime(2017, 2, 3, 0, 0)}\n",
      "{'_id': ObjectId('61baa68a6c2d74384d77841a'), 'number': 1004, 'last_name': 'Horvath', 'first_name': 'Jack', 'salary': 42000, 'department': 'marketing', 'hire_date': datetime.datetime(2017, 6, 1, 0, 0)}\n"
     ]
    }
   ],
   "source": [
    "for employee in emp_col.find():\n",
    "    print(employee)"
   ]
  },
  {
   "cell_type": "code",
   "execution_count": 29,
   "metadata": {},
   "outputs": [
    {
     "name": "stdout",
     "output_type": "stream",
     "text": [
      "{'number': 1002, 'last_name': 'Anderson', 'first_name': 'Jane', 'salary': 57500, 'department': 'marketing', 'hire_date': datetime.datetime(2013, 11, 9, 0, 0)}\n",
      "{'number': 1003, 'last_name': 'Everest', 'first_name': 'Brad', 'salary': 71000, 'department': 'sales', 'hire_date': datetime.datetime(2017, 2, 3, 0, 0)}\n",
      "{'number': 1004, 'last_name': 'Horvath', 'first_name': 'Jack', 'salary': 42000, 'department': 'marketing', 'hire_date': datetime.datetime(2017, 6, 1, 0, 0)}\n"
     ]
    }
   ],
   "source": [
    "# first_name like %a%\n",
    "filter = {\"first_name\":{\"$regex\":\"a\"}}\n",
    "for employee in emp_col.find(filter,{\"_id\":0}):\n",
    "    print(employee)\n",
    "   "
   ]
  },
  {
   "cell_type": "code",
   "execution_count": 30,
   "metadata": {},
   "outputs": [
    {
     "name": "stdout",
     "output_type": "stream",
     "text": [
      "{'number': 1001, 'last_name': 'Smith', 'first_name': 'John', 'salary': 62000, 'department': 'sales', 'hire_date': datetime.datetime(2016, 1, 2, 0, 0)}\n",
      "{'number': 1002, 'last_name': 'Anderson', 'first_name': 'Jane', 'salary': 57500, 'department': 'marketing', 'hire_date': datetime.datetime(2013, 11, 9, 0, 0)}\n",
      "{'number': 1004, 'last_name': 'Horvath', 'first_name': 'Jack', 'salary': 42000, 'department': 'marketing', 'hire_date': datetime.datetime(2017, 6, 1, 0, 0)}\n"
     ]
    }
   ],
   "source": [
    " \n",
    "filter = {\"first_name\":{\"$regex\":\"^J\"}}\n",
    "for employee in emp_col.find(filter,{\"_id\":0}):\n",
    "    print(employee)"
   ]
  },
  {
   "cell_type": "code",
   "execution_count": 31,
   "metadata": {},
   "outputs": [
    {
     "name": "stdout",
     "output_type": "stream",
     "text": [
      "{'number': 1001, 'last_name': 'Smith', 'first_name': 'John', 'salary': 62000, 'department': 'sales', 'hire_date': datetime.datetime(2016, 1, 2, 0, 0)}\n",
      "{'number': 1004, 'last_name': 'Horvath', 'first_name': 'Jack', 'salary': 42000, 'department': 'marketing', 'hire_date': datetime.datetime(2017, 6, 1, 0, 0)}\n"
     ]
    }
   ],
   "source": [
    "    \n",
    "filter = {\"last_name\":{\"$regex\":\"h$\"}}\n",
    "for employee in emp_col.find(filter,{\"_id\":0}):\n",
    "    print(employee)\n",
    "    "
   ]
  },
  {
   "cell_type": "code",
   "execution_count": 32,
   "metadata": {},
   "outputs": [
    {
     "name": "stdout",
     "output_type": "stream",
     "text": [
      "{'number': 1001, 'last_name': 'Smith', 'first_name': 'John', 'salary': 62000, 'department': 'sales', 'hire_date': datetime.datetime(2016, 1, 2, 0, 0)}\n",
      "{'number': 1003, 'last_name': 'Everest', 'first_name': 'Brad', 'salary': 71000, 'department': 'sales', 'hire_date': datetime.datetime(2017, 2, 3, 0, 0)}\n",
      "{'number': 1004, 'last_name': 'Horvath', 'first_name': 'Jack', 'salary': 42000, 'department': 'marketing', 'hire_date': datetime.datetime(2017, 6, 1, 0, 0)}\n"
     ]
    }
   ],
   "source": [
    "from datetime import datetime\n",
    "from_dt = datetime.strptime(\"2016-01-01\",\"%Y-%m-%d\")\n",
    "to_dt = datetime.strptime(\"2017-12-31\",\"%Y-%m-%d\")\n",
    "\n",
    "#and\n",
    "filter = {\n",
    "    \"hire_date\":{\"$gte\":from_dt,\"$lte\":to_dt}\n",
    "}\n",
    "for employee in emp_col.find(filter,{\"_id\":0}):\n",
    "    print(employee)"
   ]
  },
  {
   "cell_type": "code",
   "execution_count": 33,
   "metadata": {},
   "outputs": [
    {
     "name": "stdout",
     "output_type": "stream",
     "text": [
      "{'number': 1001, 'last_name': 'Smith', 'first_name': 'John', 'salary': 62000, 'department': 'sales', 'hire_date': datetime.datetime(2016, 1, 2, 0, 0)}\n",
      "{'number': 1002, 'last_name': 'Anderson', 'first_name': 'Jane', 'salary': 57500, 'department': 'marketing', 'hire_date': datetime.datetime(2013, 11, 9, 0, 0)}\n"
     ]
    }
   ],
   "source": [
    "filter = {\n",
    "    \"number\":{\"$in\":[1001,1002]}\n",
    "}\n",
    "for employee in emp_col.find(filter,{\"_id\":0}):\n",
    "    print(employee)"
   ]
  },
  {
   "cell_type": "code",
   "execution_count": 34,
   "metadata": {},
   "outputs": [
    {
     "name": "stdout",
     "output_type": "stream",
     "text": [
      "{'number': 1001, 'last_name': 'Smith', 'first_name': 'John', 'salary': 62000, 'department': 'sales', 'hire_date': datetime.datetime(2016, 1, 2, 0, 0)}\n",
      "{'number': 1003, 'last_name': 'Everest', 'first_name': 'Brad', 'salary': 71000, 'department': 'sales', 'hire_date': datetime.datetime(2017, 2, 3, 0, 0)}\n",
      "{'number': 1004, 'last_name': 'Horvath', 'first_name': 'Jack', 'salary': 42000, 'department': 'marketing', 'hire_date': datetime.datetime(2017, 6, 1, 0, 0)}\n"
     ]
    }
   ],
   "source": [
    "filter = { \"$or\": [ { \"first_name\":\"Jack\" } , { \"salary\":{\"$gt\":57500} } ] }\n",
    "\n",
    "for employee in emp_col.find(filter,{\"_id\":0}):\n",
    "    print(employee)"
   ]
  },
  {
   "cell_type": "code",
   "execution_count": 35,
   "metadata": {},
   "outputs": [
    {
     "data": {
      "text/plain": [
       "<pymongo.results.UpdateResult at 0x1f27943f040>"
      ]
     },
     "execution_count": 35,
     "metadata": {},
     "output_type": "execute_result"
    }
   ],
   "source": [
    "### update_one(), update_many()\n",
    "# number = 1001 department sales -> marketing\n",
    "emp_col.update_one({\"number\":1001},{\"$set\":{\"department\":\"marketing\"}})\n",
    "# number = 1001 , salary 62000 -> 63000\n",
    "emp_col.update_one({\"number\":1001},{\"$inc\":{\"salary\":1000}})"
   ]
  },
  {
   "cell_type": "code",
   "execution_count": 36,
   "metadata": {},
   "outputs": [
    {
     "name": "stdout",
     "output_type": "stream",
     "text": [
      "{'_id': ObjectId('61baa68a6c2d74384d778417'), 'number': 1001, 'last_name': 'Smith', 'first_name': 'John', 'salary': 63000, 'department': 'marketing', 'hire_date': datetime.datetime(2016, 1, 2, 0, 0)}\n",
      "{'_id': ObjectId('61baa68a6c2d74384d778418'), 'number': 1002, 'last_name': 'Anderson', 'first_name': 'Jane', 'salary': 57500, 'department': 'marketing', 'hire_date': datetime.datetime(2013, 11, 9, 0, 0)}\n",
      "{'_id': ObjectId('61baa68a6c2d74384d778419'), 'number': 1003, 'last_name': 'Everest', 'first_name': 'Brad', 'salary': 71000, 'department': 'sales', 'hire_date': datetime.datetime(2017, 2, 3, 0, 0)}\n",
      "{'_id': ObjectId('61baa68a6c2d74384d77841a'), 'number': 1004, 'last_name': 'Horvath', 'first_name': 'Jack', 'salary': 42000, 'department': 'marketing', 'hire_date': datetime.datetime(2017, 6, 1, 0, 0)}\n"
     ]
    }
   ],
   "source": [
    "for employee in emp_col.find():\n",
    "    print(employee)"
   ]
  },
  {
   "cell_type": "code",
   "execution_count": 37,
   "metadata": {},
   "outputs": [
    {
     "data": {
      "text/plain": [
       "<pymongo.results.UpdateResult at 0x1f279452280>"
      ]
     },
     "execution_count": 37,
     "metadata": {},
     "output_type": "execute_result"
    }
   ],
   "source": [
    "emp_col.update_many({},{\"$set\":{\"status\":\"A\"}})"
   ]
  },
  {
   "cell_type": "code",
   "execution_count": 38,
   "metadata": {},
   "outputs": [
    {
     "name": "stdout",
     "output_type": "stream",
     "text": [
      "{'number': 1001, 'last_name': 'Smith', 'first_name': 'John', 'salary': 63000, 'department': 'marketing', 'hire_date': datetime.datetime(2016, 1, 2, 0, 0), 'status': 'A'}\n",
      "{'number': 1002, 'last_name': 'Anderson', 'first_name': 'Jane', 'salary': 57500, 'department': 'marketing', 'hire_date': datetime.datetime(2013, 11, 9, 0, 0), 'status': 'A'}\n",
      "{'number': 1003, 'last_name': 'Everest', 'first_name': 'Brad', 'salary': 71000, 'department': 'sales', 'hire_date': datetime.datetime(2017, 2, 3, 0, 0), 'status': 'A'}\n",
      "{'number': 1004, 'last_name': 'Horvath', 'first_name': 'Jack', 'salary': 42000, 'department': 'marketing', 'hire_date': datetime.datetime(2017, 6, 1, 0, 0), 'status': 'A'}\n"
     ]
    }
   ],
   "source": [
    "for employees in emp_col.find({},{\"_id\":0}):\n",
    "    print(employees)"
   ]
  },
  {
   "cell_type": "code",
   "execution_count": 39,
   "metadata": {},
   "outputs": [
    {
     "data": {
      "text/plain": [
       "<pymongo.results.UpdateResult at 0x1f2786fce80>"
      ]
     },
     "execution_count": 39,
     "metadata": {},
     "output_type": "execute_result"
    }
   ],
   "source": [
    "#  update_many()\n",
    "# number in [1003,1004 ] status = 'B' 로 update\n",
    "filter = {\n",
    "    \"number\":{\"$in\":[1003,1004]}\n",
    "}\n",
    "emp_col.update_many(filter,{\"$set\":{\"status\":\"B\"}})"
   ]
  },
  {
   "cell_type": "code",
   "execution_count": 40,
   "metadata": {},
   "outputs": [
    {
     "name": "stdout",
     "output_type": "stream",
     "text": [
      "{'number': 1001, 'last_name': 'Smith', 'first_name': 'John', 'salary': 63000, 'department': 'marketing', 'hire_date': datetime.datetime(2016, 1, 2, 0, 0), 'status': 'A'}\n",
      "{'number': 1002, 'last_name': 'Anderson', 'first_name': 'Jane', 'salary': 57500, 'department': 'marketing', 'hire_date': datetime.datetime(2013, 11, 9, 0, 0), 'status': 'A'}\n",
      "{'number': 1003, 'last_name': 'Everest', 'first_name': 'Brad', 'salary': 71000, 'department': 'sales', 'hire_date': datetime.datetime(2017, 2, 3, 0, 0), 'status': 'B'}\n",
      "{'number': 1004, 'last_name': 'Horvath', 'first_name': 'Jack', 'salary': 42000, 'department': 'marketing', 'hire_date': datetime.datetime(2017, 6, 1, 0, 0), 'status': 'B'}\n"
     ]
    }
   ],
   "source": [
    "for employees in emp_col.find({},{\"_id\":0}):\n",
    "    print(employees)"
   ]
  },
  {
   "cell_type": "code",
   "execution_count": 41,
   "metadata": {},
   "outputs": [
    {
     "data": {
      "text/plain": [
       "<pymongo.results.DeleteResult at 0x1f278859c80>"
      ]
     },
     "execution_count": 41,
     "metadata": {},
     "output_type": "execute_result"
    }
   ],
   "source": [
    "# delete_many()\n",
    "# status = 'B' 인 employee 삭제\n",
    "emp_col.delete_many({\"status\":\"B\"})"
   ]
  },
  {
   "cell_type": "code",
   "execution_count": 42,
   "metadata": {},
   "outputs": [
    {
     "name": "stdout",
     "output_type": "stream",
     "text": [
      "{'number': 1001, 'last_name': 'Smith', 'first_name': 'John', 'salary': 63000, 'department': 'marketing', 'hire_date': datetime.datetime(2016, 1, 2, 0, 0), 'status': 'A'}\n",
      "{'number': 1002, 'last_name': 'Anderson', 'first_name': 'Jane', 'salary': 57500, 'department': 'marketing', 'hire_date': datetime.datetime(2013, 11, 9, 0, 0), 'status': 'A'}\n"
     ]
    }
   ],
   "source": [
    "for employees in emp_col.find({},{\"_id\":0}):\n",
    "    print(employees)"
   ]
  }
 ],
 "metadata": {
  "kernelspec": {
   "display_name": "Python 3",
   "language": "python",
   "name": "python3"
  },
  "language_info": {
   "codemirror_mode": {
    "name": "ipython",
    "version": 3
   },
   "file_extension": ".py",
   "mimetype": "text/x-python",
   "name": "python",
   "nbconvert_exporter": "python",
   "pygments_lexer": "ipython3",
   "version": "3.8.8"
  }
 },
 "nbformat": 4,
 "nbformat_minor": 4
}
