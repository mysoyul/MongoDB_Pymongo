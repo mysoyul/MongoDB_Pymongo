{
 "cells": [
  {
   "cell_type": "markdown",
   "metadata": {},
   "source": [
    "#### Songs 정보를 저장하고 읽기\n",
    "* data/songs.json 읽기\n",
    "* MongoDB에 연결하기 - db, collection 생성\n",
    "* insert_many() 등록 , find() 조회"
   ]
  },
  {
   "cell_type": "code",
   "execution_count": 1,
   "metadata": {},
   "outputs": [],
   "source": [
    "import json\n",
    "import pymongo"
   ]
  },
  {
   "cell_type": "code",
   "execution_count": 3,
   "metadata": {},
   "outputs": [],
   "source": [
    "#json file read\n",
    "with open('data/songs.json','r',encoding='utf8') as file:\n",
    "    contents = file.read()\n",
    "    json_data = json.loads(contents)"
   ]
  },
  {
   "cell_type": "code",
   "execution_count": 6,
   "metadata": {},
   "outputs": [
    {
     "name": "stdout",
     "output_type": "stream",
     "text": [
      "<class 'list'>\n"
     ]
    }
   ],
   "source": [
    "print(type(json_data))\n",
    "#json_data"
   ]
  },
  {
   "cell_type": "markdown",
   "metadata": {},
   "source": [
    "### MongoDB에 저장하기\n",
    "* MongoClient 생성\n",
    "* DB는 use pymongo_db \n",
    "* Collection은 songs"
   ]
  },
  {
   "cell_type": "code",
   "execution_count": 11,
   "metadata": {},
   "outputs": [
    {
     "name": "stdout",
     "output_type": "stream",
     "text": [
      "MongoClient(host=['localhost:27017'], document_class=dict, tz_aware=False, connect=True)\n",
      "pymongo_db\n",
      "Collection(Database(MongoClient(host=['localhost:27017'], document_class=dict, tz_aware=False, connect=True), 'pymongo_db'), 'songs')\n"
     ]
    }
   ],
   "source": [
    "import pymongo\n",
    "\n",
    "mongoClient = pymongo.MongoClient()\n",
    "print(mongoClient)\n",
    "\n",
    "song_db = mongoClient.pymongo_db\n",
    "print(song_db.name)\n",
    "\n",
    "song_col = song_db.songs\n",
    "print(song_col)"
   ]
  },
  {
   "cell_type": "code",
   "execution_count": 12,
   "metadata": {},
   "outputs": [
    {
     "data": {
      "text/plain": [
       "<pymongo.results.InsertManyResult at 0x1f40062f280>"
      ]
     },
     "execution_count": 12,
     "metadata": {},
     "output_type": "execute_result"
    }
   ],
   "source": [
    "song_col.insert_many(json_data)"
   ]
  },
  {
   "cell_type": "code",
   "execution_count": 13,
   "metadata": {},
   "outputs": [
    {
     "data": {
      "text/plain": [
       "100"
      ]
     },
     "execution_count": 13,
     "metadata": {},
     "output_type": "execute_result"
    }
   ],
   "source": [
    "song_col.count_documents({})"
   ]
  },
  {
   "cell_type": "code",
   "execution_count": 32,
   "metadata": {},
   "outputs": [
    {
     "name": "stdout",
     "output_type": "stream",
     "text": [
      "<class 'pymongo.cursor.Cursor'>\n",
      "1 {'곡명': 'Santa Tell Me', '가수': 'Ariana Grande', '앨범': 'Santa Tell Me', '발매일': '2014.11.24', '장르': 'POP', '좋아요': 207680}\n",
      "2 {'곡명': 'STAY', '가수': 'The Kid LAROI', '앨범': 'Stay', '발매일': '2021.07.09', '장르': 'POP', '좋아요': 192882}\n",
      "3 {'곡명': 'My Universe', '가수': 'Coldplay', '앨범': 'My Universe', '발매일': '2021.09.24', '장르': 'POP', '좋아요': 140811}\n",
      "4 {'곡명': 'Peaches (Feat. Daniel Caesar & Giveon)', '가수': 'Justin Bieber', '앨범': 'Justice (The Complete Edition)', '발매일': '2021.10.08', '장르': 'POP', '좋아요': 209330}\n",
      "5 {'곡명': 'Snowman', '가수': 'Sia', '앨범': 'Everyday Is Christmas (Snowman Deluxe Edition)', '발매일': '2021.11.05', '장르': 'POP', '좋아요': 190337}\n",
      "6 {'곡명': 'Bad Habits', '가수': 'Ed Sheeran', '앨범': '=', '발매일': '2021.08.19', '장르': 'POP', '좋아요': 93624}\n",
      "7 {'곡명': 'Last Christmas', '가수': 'Ariana Grande', '앨범': 'Christmas Kisses', '발매일': '2013.01.01', '장르': 'POP', '좋아요': 36516}\n",
      "8 {'곡명': 'Savage Love (Laxed - Siren Beat) (BTS Remix)', '가수': 'Jawsh 685', '앨범': 'Savage Love (Laxed - Siren Beat) [BTS Remix]', '발매일': '2020.10.02', '장르': 'POP', '좋아요': 191077}\n",
      "9 {'곡명': 'Off My Face', '가수': 'Justin Bieber', '앨범': 'Justice (The Complete Edition)', '발매일': '2021.10.08', '장르': 'POP', '좋아요': 94759}\n"
     ]
    }
   ],
   "source": [
    "print(type(song_col.find({\"장르\":\"POP\"},{\"_id\":0,\"가사\":0})))\n",
    "for idx,song in enumerate(song_col.find({\"장르\":\"POP\"},{\"_id\":0,\"가사\":0}),1):\n",
    "    print(idx,song)"
   ]
  },
  {
   "cell_type": "code",
   "execution_count": 26,
   "metadata": {},
   "outputs": [
    {
     "name": "stdout",
     "output_type": "stream",
     "text": [
      "{'_id': '랩/힙합'}\n",
      "{'_id': 'POP'}\n",
      "{'_id': '발라드, 인디음악'}\n",
      "{'_id': '록/메탈, 국내드라마'}\n",
      "{'_id': 'R&B/Soul, 인디음악'}\n",
      "{'_id': '록/메탈'}\n",
      "{'_id': '발라드'}\n",
      "{'_id': 'R&B/Soul'}\n",
      "{'_id': '성인가요'}\n",
      "{'_id': '댄스'}\n",
      "{'_id': '발라드, 국내드라마'}\n"
     ]
    }
   ],
   "source": [
    "for genre in song_col.aggregate([{\"$group\":{\"_id\":\"$장르\"}}]):\n",
    "    print(genre)"
   ]
  },
  {
   "cell_type": "code",
   "execution_count": 29,
   "metadata": {},
   "outputs": [
    {
     "name": "stdout",
     "output_type": "stream",
     "text": [
      "{'_id': '랩/힙합', 'count': 27}\n",
      "{'_id': '댄스', 'count': 20}\n",
      "{'_id': '발라드', 'count': 18}\n",
      "{'_id': 'POP', 'count': 9}\n",
      "{'_id': '성인가요', 'count': 7}\n",
      "{'_id': '발라드, 국내드라마', 'count': 6}\n",
      "{'_id': '록/메탈', 'count': 5}\n",
      "{'_id': 'R&B/Soul', 'count': 3}\n",
      "{'_id': 'R&B/Soul, 인디음악', 'count': 3}\n",
      "{'_id': '발라드, 인디음악', 'count': 1}\n",
      "{'_id': '록/메탈, 국내드라마', 'count': 1}\n"
     ]
    }
   ],
   "source": [
    "grouping = [\n",
    "    {\"$group\":{\"_id\":\"$장르\",\"count\":{\"$sum\":1}}},\n",
    "    {\"$sort\":{\"count\":-1}}\n",
    "]\n",
    "for genre in song_col.aggregate(grouping):\n",
    "    print(genre)"
   ]
  },
  {
   "cell_type": "code",
   "execution_count": 44,
   "metadata": {},
   "outputs": [],
   "source": [
    "#collection의 find()함수를 사용하여 forloop로 출력하는 함수\n",
    "#criteria - 검색조건, projection - 조회될 필드명, field - sorting하려는 필드명\n",
    "def print_find_document(criteria, projection, field=None):\n",
    "    song_cursor = None\n",
    "    if field is None:\n",
    "        print('find')\n",
    "        song_cursor = song_col.find(criteria, projection)\n",
    "    else:\n",
    "        print('find - sort', field)\n",
    "        song_cursor = song_col.find(criteria, projection).sort(field,pymongo.DESCENDING)\n",
    "    for idx,song in enumerate(song_cursor,1):  \n",
    "        print(idx,song)"
   ]
  },
  {
   "cell_type": "code",
   "execution_count": 46,
   "metadata": {},
   "outputs": [
    {
     "name": "stdout",
     "output_type": "stream",
     "text": [
      "find - sort 발매일\n",
      "1 {'곡명': 'Beautiful', '가수': 'NCT 2021', '앨범': 'Universe - The 3rd Album', '발매일': '2021.12.14'}\n",
      "2 {'곡명': '흰눈', '가수': '먼데이 키즈 (Monday Kiz)', '앨범': '흰눈', '발매일': '2021.12.12'}\n",
      "3 {'곡명': '밤새 서로 미루다', '가수': '존박', '앨범': '밤새 서로 미루다', '발매일': '2021.12.09'}\n",
      "4 {'곡명': '눈이 오잖아(Feat.헤이즈)', '가수': '이무진', '앨범': '눈이 오잖아(Feat.헤이즈)', '발매일': '2021.12.03'}\n",
      "5 {'곡명': '그게 더 편할 것 같아 (N번째 연애 X 멜로망스)', '가수': '멜로망스', '앨범': '그게 더 편할 것 같아 (N번째 연애 X 멜로망스)', '발매일': '2021.11.26'}\n",
      "6 {'곡명': '다음생이 있다면 당신을 만나서 다시 사랑할래요', '가수': '임재현', '앨범': '다음생이 있다면 당신을 만나서 다시 사랑할래요', '발매일': '2021.11.08'}\n",
      "7 {'곡명': '나 그댈위해 시 한편을 쓰겠어', '가수': '케이시 (Kassy)', '앨범': '옛이야기', '발매일': '2021.10.28'}\n",
      "8 {'곡명': '시간을 거슬러 (낮에 뜨는 달 X 케이윌)', '가수': '케이윌', '앨범': '시간을 거슬러 (낮에 뜨는 달 X 케이윌)', '발매일': '2021.08.31'}\n",
      "9 {'곡명': '그대라는 사치', '가수': '임영웅', '앨범': '사랑의 콜센타 PART62', '발매일': '2021.07.06'}\n",
      "10 {'곡명': '바라만 본다', '가수': 'MSG워너비(M.O.M)', '앨범': 'MSG워너비 1집', '발매일': '2021.06.26'}\n",
      "11 {'곡명': '하루만 더', '가수': '빅마마', '앨범': '하루만 더', '발매일': '2021.06.24'}\n",
      "12 {'곡명': '다정히 내 이름을 부르면', '가수': '경서예지', '앨범': '다정히 내 이름을 부르면 (경서예지 x 전건호)', '발매일': '2021.05.19'}\n",
      "13 {'곡명': '추억은 만남보다 이별에 남아', '가수': '정동하', '앨범': '추억은 만남보다 이별에 남아', '발매일': '2021.01.31'}\n",
      "14 {'곡명': '그날에 나는 맘이 편했을까', '가수': '이예준', '앨범': '그날에 나는 맘이 편했을까', '발매일': '2020.12.03'}\n",
      "15 {'곡명': '밤하늘의 별을(2020)', '가수': '경서', '앨범': '밤하늘의 별을(2020)', '발매일': '2020.11.14'}\n",
      "16 {'곡명': '취기를 빌려 (취향저격 그녀 X 산들)', '가수': '산들', '앨범': '취기를 빌려 (취향저격 그녀 X 산들)', '발매일': '2020.07.20'}\n",
      "17 {'곡명': '어떻게 이별까지 사랑하겠어, 널 사랑하는 거지', '가수': 'AKMU (악뮤)', '앨범': '항해', '발매일': '2019.09.25'}\n",
      "18 {'곡명': '크리스마스니까', '가수': '성시경', '앨범': 'Jelly Christmas 2012 HEART PROJECT', '발매일': '2012.12.06'}\n"
     ]
    }
   ],
   "source": [
    "criteria = {\"장르\":\"발라드\"}\n",
    "projection = {\"_id\":0,\"가수\":1,\"곡명\":1,\"앨범\":1,\"발매일\":1}\n",
    "field = \"발매일\"\n",
    "print_find_document(criteria, projection,field)"
   ]
  },
  {
   "cell_type": "code",
   "execution_count": 52,
   "metadata": {},
   "outputs": [],
   "source": [
    "#컬렉션의 aggregate()를 사용한 함수 정의\n",
    "#[{$group},{$match},{$sort}]\n",
    "def print_aggregate_document(*args):\n",
    "    agg_list = []\n",
    "    for arg in args:\n",
    "        agg_list.append(arg)\n",
    "    print(agg_list)\n",
    "    \n",
    "    for agg_doc in song_col.aggregate(agg_list):\n",
    "        print(agg_doc)"
   ]
  },
  {
   "cell_type": "code",
   "execution_count": 56,
   "metadata": {},
   "outputs": [],
   "source": [
    "def print_aggregate_document_array(agg_stage_list):\n",
    "    for agg_doc in song_col.aggregate(agg_stage_list):\n",
    "        print(agg_doc)"
   ]
  },
  {
   "cell_type": "code",
   "execution_count": 59,
   "metadata": {},
   "outputs": [
    {
     "name": "stdout",
     "output_type": "stream",
     "text": [
      "{'_id': '임영웅', 'count': 10}\n",
      "{'_id': '아이유', 'count': 7}\n",
      "{'_id': '방탄소년단', 'count': 6}\n",
      "{'_id': \"BE'O (비오)\", 'count': 5}\n",
      "{'_id': '이무진', 'count': 3}\n",
      "{'_id': 'SINCE', 'count': 2}\n",
      "{'_id': '멜로망스', 'count': 2}\n",
      "{'_id': '헤이즈 (Heize)', 'count': 2}\n",
      "{'_id': 'AKMU (악뮤)', 'count': 2}\n",
      "{'_id': '조광일', 'count': 2}\n",
      "{'_id': 'aespa', 'count': 2}\n",
      "{'_id': '베이식 (Basick)', 'count': 2}\n",
      "{'_id': 'Justin Bieber', 'count': 2}\n",
      "{'_id': '마크툽 (MAKTUB)', 'count': 2}\n",
      "{'_id': '호미들', 'count': 2}\n",
      "{'_id': 'Ariana Grande', 'count': 2}\n",
      "{'_id': 'sokodomo', 'count': 1}\n",
      "{'_id': '경서', 'count': 1}\n",
      "{'_id': '존박', 'count': 1}\n",
      "{'_id': 'Mudd the student', 'count': 1}\n",
      "{'_id': '먼데이 키즈 (Monday Kiz)', 'count': 1}\n",
      "{'_id': 'Coldplay', 'count': 1}\n",
      "{'_id': '경서예지', 'count': 1}\n",
      "{'_id': 'STAYC(스테이씨)', 'count': 1}\n",
      "{'_id': '브레이브걸스', 'count': 1}\n",
      "{'_id': '정동하', 'count': 1}\n",
      "{'_id': '폴킴', 'count': 1}\n",
      "{'_id': '염따', 'count': 1}\n",
      "{'_id': 'IVE (아이브)', 'count': 1}\n",
      "{'_id': 'BLACKPINK', 'count': 1}\n",
      "{'_id': 'Sia', 'count': 1}\n",
      "{'_id': 'Don Mills', 'count': 1}\n",
      "{'_id': '케이시 (Kassy)', 'count': 1}\n",
      "{'_id': 'NCT 2021', 'count': 1}\n",
      "{'_id': '빅마마', 'count': 1}\n",
      "{'_id': 'Ed Sheeran', 'count': 1}\n",
      "{'_id': 'ASH ISLAND', 'count': 1}\n",
      "{'_id': '전소미', 'count': 1}\n",
      "{'_id': '임재현', 'count': 1}\n",
      "{'_id': '태연 (TAEYEON)', 'count': 1}\n",
      "{'_id': '김대명', 'count': 1}\n",
      "{'_id': '성시경', 'count': 1}\n",
      "{'_id': '이예준', 'count': 1}\n",
      "{'_id': '오마이걸 (OH MY GIRL)', 'count': 1}\n",
      "{'_id': '조정석', 'count': 1}\n",
      "{'_id': '기리보이', 'count': 1}\n",
      "{'_id': 'Jawsh 685', 'count': 1}\n",
      "{'_id': '송이한', 'count': 1}\n",
      "{'_id': 'NCT U', 'count': 1}\n",
      "{'_id': 'TWICE (트와이스)', 'count': 1}\n",
      "{'_id': '개코', 'count': 1}\n",
      "{'_id': '아넌딜라이트(Anandelight)', 'count': 1}\n",
      "{'_id': 'Mariah Carey', 'count': 1}\n",
      "{'_id': '산들', 'count': 1}\n",
      "{'_id': 'The Kid LAROI', 'count': 1}\n",
      "{'_id': '디핵 (D-Hack)', 'count': 1}\n",
      "{'_id': 'Red Velvet (레드벨벳)', 'count': 1}\n",
      "{'_id': 'MSG워너비(M.O.M)', 'count': 1}\n",
      "{'_id': '주시크 (Joosiq)', 'count': 1}\n",
      "{'_id': 'MINO (송민호)', 'count': 1}\n",
      "{'_id': '케이윌', 'count': 1}\n",
      "{'_id': '다비치', 'count': 1}\n",
      "{'_id': '쿤타', 'count': 1}\n"
     ]
    }
   ],
   "source": [
    "grouping = [\n",
    "    {\"$group\":{\"_id\":\"$가수\",\"count\":{\"$sum\":1}}},\n",
    "    {\"$sort\":{\"count\":-1}}\n",
    "]\n",
    "print_aggregate_document_array(grouping)"
   ]
  },
  {
   "cell_type": "code",
   "execution_count": 58,
   "metadata": {},
   "outputs": [
    {
     "name": "stdout",
     "output_type": "stream",
     "text": [
      "[{'$group': {'_id': '$가수', 'count': {'$sum': 1}}}]\n",
      "{'_id': 'sokodomo', 'count': 1}\n",
      "{'_id': '경서', 'count': 1}\n",
      "{'_id': '존박', 'count': 1}\n",
      "{'_id': 'Mudd the student', 'count': 1}\n",
      "{'_id': '먼데이 키즈 (Monday Kiz)', 'count': 1}\n",
      "{'_id': '방탄소년단', 'count': 6}\n",
      "{'_id': 'Coldplay', 'count': 1}\n",
      "{'_id': 'SINCE', 'count': 2}\n",
      "{'_id': '멜로망스', 'count': 2}\n",
      "{'_id': '헤이즈 (Heize)', 'count': 2}\n",
      "{'_id': '경서예지', 'count': 1}\n",
      "{'_id': 'STAYC(스테이씨)', 'count': 1}\n",
      "{'_id': '브레이브걸스', 'count': 1}\n",
      "{'_id': '정동하', 'count': 1}\n",
      "{'_id': '폴킴', 'count': 1}\n",
      "{'_id': '아이유', 'count': 7}\n",
      "{'_id': '염따', 'count': 1}\n",
      "{'_id': 'IVE (아이브)', 'count': 1}\n",
      "{'_id': 'BLACKPINK', 'count': 1}\n",
      "{'_id': 'Sia', 'count': 1}\n",
      "{'_id': 'Don Mills', 'count': 1}\n",
      "{'_id': '임영웅', 'count': 10}\n",
      "{'_id': '케이시 (Kassy)', 'count': 1}\n",
      "{'_id': 'NCT 2021', 'count': 1}\n",
      "{'_id': '빅마마', 'count': 1}\n",
      "{'_id': 'Ed Sheeran', 'count': 1}\n",
      "{'_id': '이무진', 'count': 3}\n",
      "{'_id': 'ASH ISLAND', 'count': 1}\n",
      "{'_id': '전소미', 'count': 1}\n",
      "{'_id': '임재현', 'count': 1}\n",
      "{'_id': '태연 (TAEYEON)', 'count': 1}\n",
      "{'_id': 'AKMU (악뮤)', 'count': 2}\n",
      "{'_id': '김대명', 'count': 1}\n",
      "{'_id': '성시경', 'count': 1}\n",
      "{'_id': '조광일', 'count': 2}\n",
      "{'_id': '이예준', 'count': 1}\n",
      "{'_id': 'aespa', 'count': 2}\n",
      "{'_id': '오마이걸 (OH MY GIRL)', 'count': 1}\n",
      "{'_id': '조정석', 'count': 1}\n",
      "{'_id': '베이식 (Basick)', 'count': 2}\n",
      "{'_id': '기리보이', 'count': 1}\n",
      "{'_id': 'Jawsh 685', 'count': 1}\n",
      "{'_id': 'Justin Bieber', 'count': 2}\n",
      "{'_id': '마크툽 (MAKTUB)', 'count': 2}\n",
      "{'_id': \"BE'O (비오)\", 'count': 5}\n",
      "{'_id': '호미들', 'count': 2}\n",
      "{'_id': '송이한', 'count': 1}\n",
      "{'_id': 'NCT U', 'count': 1}\n",
      "{'_id': 'TWICE (트와이스)', 'count': 1}\n",
      "{'_id': 'Ariana Grande', 'count': 2}\n",
      "{'_id': '개코', 'count': 1}\n",
      "{'_id': '아넌딜라이트(Anandelight)', 'count': 1}\n",
      "{'_id': 'Mariah Carey', 'count': 1}\n",
      "{'_id': '산들', 'count': 1}\n",
      "{'_id': 'The Kid LAROI', 'count': 1}\n",
      "{'_id': '디핵 (D-Hack)', 'count': 1}\n",
      "{'_id': 'Red Velvet (레드벨벳)', 'count': 1}\n",
      "{'_id': 'MSG워너비(M.O.M)', 'count': 1}\n",
      "{'_id': '주시크 (Joosiq)', 'count': 1}\n",
      "{'_id': 'MINO (송민호)', 'count': 1}\n",
      "{'_id': '케이윌', 'count': 1}\n",
      "{'_id': '다비치', 'count': 1}\n",
      "{'_id': '쿤타', 'count': 1}\n"
     ]
    }
   ],
   "source": [
    "\n",
    "grouping = {\"$group\":{\"_id\":\"$장르\",\"count\":{\"$sum\":1}}}\n",
    "\n",
    "print_aggregate_document(grouping)"
   ]
  }
 ],
 "metadata": {
  "kernelspec": {
   "display_name": "Python 3",
   "language": "python",
   "name": "python3"
  },
  "language_info": {
   "codemirror_mode": {
    "name": "ipython",
    "version": 3
   },
   "file_extension": ".py",
   "mimetype": "text/x-python",
   "name": "python",
   "nbconvert_exporter": "python",
   "pygments_lexer": "ipython3",
   "version": "3.8.8"
  }
 },
 "nbformat": 4,
 "nbformat_minor": 4
}
