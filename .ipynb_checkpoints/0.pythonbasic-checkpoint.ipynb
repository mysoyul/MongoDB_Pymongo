{
 "cells": [
  {
   "cell_type": "code",
   "execution_count": 5,
   "id": "b89dca13-9880-4174-98a9-36bffec22e13",
   "metadata": {},
   "outputs": [],
   "source": [
    "def add(n1,n2):\n",
    "    return n1 + n2"
   ]
  },
  {
   "cell_type": "code",
   "execution_count": 7,
   "id": "0428d8c0-ea2b-4fc7-842f-e4e3206280bd",
   "metadata": {},
   "outputs": [
    {
     "data": {
      "text/plain": [
       "30"
      ]
     },
     "execution_count": 7,
     "metadata": {},
     "output_type": "execute_result"
    }
   ],
   "source": [
    "add(10,20)"
   ]
  },
  {
   "cell_type": "markdown",
   "id": "5f6fb61c-ce4c-48aa-962b-1a288bb2a854",
   "metadata": {},
   "source": [
    "### List Comprehension 포괄적인 리스트 \n",
    "* for구문과 list 합친 형태"
   ]
  },
  {
   "cell_type": "code",
   "execution_count": 12,
   "id": "731e30b3-4ff3-4b86-9380-923590bf698a",
   "metadata": {},
   "outputs": [
    {
     "name": "stdout",
     "output_type": "stream",
     "text": [
      "[0, 4, 16, 36, 64]\n"
     ]
    }
   ],
   "source": [
    "squares = []\n",
    "for i in range(10):\n",
    "    if i % 2 == 0:\n",
    "        squares.append(i * i)\n",
    "print(squares)"
   ]
  },
  {
   "cell_type": "code",
   "execution_count": 15,
   "id": "4679b7d2-4302-458c-9606-0b0c340091bf",
   "metadata": {},
   "outputs": [
    {
     "name": "stdout",
     "output_type": "stream",
     "text": [
      "[0, 4, 16, 36, 64]\n"
     ]
    }
   ],
   "source": [
    "squares2 = [val*val for val in range(10) if val % 2 == 0]\n",
    "print(squares2)"
   ]
  }
 ],
 "metadata": {
  "kernelspec": {
   "display_name": "Python 3",
   "language": "python",
   "name": "python3"
  },
  "language_info": {
   "codemirror_mode": {
    "name": "ipython",
    "version": 3
   },
   "file_extension": ".py",
   "mimetype": "text/x-python",
   "name": "python",
   "nbconvert_exporter": "python",
   "pygments_lexer": "ipython3",
   "version": "3.8.8"
  }
 },
 "nbformat": 4,
 "nbformat_minor": 5
}
