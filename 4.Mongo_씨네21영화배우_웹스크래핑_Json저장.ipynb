{
 "cells": [
  {
   "cell_type": "markdown",
   "metadata": {},
   "source": [
    "### Cine21 영화배우 정보 웹스크래핑\n",
    "1. Site 주소 : http://www.cine21.com/rank/person/\n",
    "2. Request URL : http://www.cine21.com/rank/person/content   \n",
    "  - 크롬 개발자 도구의 network 탭에서 xhr 인 것만 필터링 \n",
    "3. Request Method : POST\n",
    "4. Form Data \n",
    " - section: actor\n",
    " - period_start: 2020-09\n",
    " - gender: all\n",
    " - page: 1\n",
    "5. 2년치 데이터를 한꺼번에 스크래핑 해서 actors.json 파일로 저장 "
   ]
  },
  {
   "cell_type": "code",
   "execution_count": 1,
   "metadata": {},
   "outputs": [],
   "source": [
    "import requests\n",
    "from bs4 import BeautifulSoup\n",
    "import re\n",
    "from urllib.parse import urljoin\n"
   ]
  },
  {
   "cell_type": "markdown",
   "metadata": {},
   "source": [
    "### 1단계 \n",
    "* 1 page 7명의 이름과 상세정보 추출"
   ]
  },
  {
   "cell_type": "markdown",
   "metadata": {},
   "source": [
    "### 정규표현식 (regular expression)\n",
    "* \\w는 word를 표현하며 알파벳 + 숫자 + _ 중의 한 문자임을 의미한다.\n",
    "* 문자가 출현한 횟수를 나타낼때 \n",
    " <pre>   \n",
    "  * : 0 ~ n,  + : 1 ~ n , ? : 0(zero) or 1 \n",
    " </pre> \n",
    "* 정규표현식에 특수문자를 사용할때는 특수문자 앞에 \\(back slash)를 반드시 주어야 한다\n",
    "* .(period)는 줄바꿈 문자(\\n)을 제외한 모든 글자 1개를 의미한다\n",
    "* Greedy vs Non-Greedy\n",
    " - Greedy 욕심많은 (.*) : 모든 태그가 다 선택\n",
    " - Non-Greedy 욕심없는 (.*?) : 첫번째 매칭되는 태그만 선택\n",
    "* [\\n\\r\\t] : \\n,\\r,\\t 중에 하나만 찾는다.\n",
    " - re.compile('[\\n\\r\\t]')는 해당 정규표현식을 찾아주는 컴파일러를 생성한다.\n",
    " - compile 함수내의 정규표현식 앞에는 항상 r 을 붙혀 주어야 한다."
   ]
  },
  {
   "cell_type": "code",
   "execution_count": 33,
   "metadata": {},
   "outputs": [
    {
     "name": "stdout",
     "output_type": "stream",
     "text": [
      "200\n",
      "윤계상 http://www.cine21.com/db/person/info/?person_id=19889\n",
      "다른 이름 지오디;god\n",
      "직업 배우\n",
      "생년월일 1978-12-20\n",
      "성별 남\n",
      "홈페이지  https://www.facebook.com/saram.yoonkyesang https://www.instagram.com/kyesang78/ \n",
      "신장/체중 182cm, 62kg\n",
      "학교 경희대학교 포스트모던학과 휴학\n",
      "취미 컴퓨터게임, 스노우보드\n",
      "특기 표정연기, 춤추기\n",
      "===========================\n",
      "박용우 http://www.cine21.com/db/person/info/?person_id=3984\n",
      "직업 배우\n",
      "생년월일 1971-03-16\n",
      "성별 남\n",
      "신장/체중 176cm, 65kg\n",
      "학교 중앙대학교 연극영화과\n",
      "취미 볼링 , 피아노\n",
      "특기 노래, 춤, 태권도\n",
      "소속사 스타파크엔터테인먼트\n",
      "===========================\n",
      "손석구 http://www.cine21.com/db/person/info/?person_id=104968\n",
      "직업 배우\n",
      "생년월일 1983-00-00\n",
      "성별 남\n",
      "===========================\n",
      "임지연 http://www.cine21.com/db/person/info/?person_id=471\n",
      "직업 배우\n",
      "성별 여\n",
      "홈페이지  http://www.artistcompany.co.kr/portfolio-item/im-ji-yeon/ \n",
      "소속사 아티스트컴퍼니\n",
      "===========================\n",
      "공민정 http://www.cine21.com/db/person/info/?person_id=103208\n",
      "다른 이름 김민정\n",
      "직업 배우\n",
      "생년월일 1986-09-30\n",
      "성별 여\n",
      "===========================\n",
      "박지환 http://www.cine21.com/db/person/info/?person_id=35760\n",
      "직업 배우\n",
      "생년월일 1980-09-05\n",
      "성별 남\n",
      "===========================\n",
      "류승룡 http://www.cine21.com/db/person/info/?person_id=39673\n",
      "다른 이름 류승용; 유승룡\n",
      "직업 배우\n",
      "생년월일 1970-11-29\n",
      "성별 남\n",
      "신장/체중 175cm, 72kg\n",
      "학교 서울예술대학 연극\n",
      "소속사 필름있수다\n",
      "===========================\n"
     ]
    }
   ],
   "source": [
    "req_url = 'http://www.cine21.com/rank/person/content'\n",
    "req_param = {\n",
    "    'section': 'actor',\n",
    "    'period_start': '2021-11',\n",
    "    'gender': 'all',\n",
    "    'page': 1\n",
    "}\n",
    "res = requests.post(req_url, data=req_param)\n",
    "print(res.status_code)\n",
    "if res.ok:\n",
    "    soup = BeautifulSoup(res.text, 'html.parser')\n",
    "    \n",
    "    for li_tag in soup.select('li.people_li'):\n",
    "        div_tag = li_tag.select_one('div.name')\n",
    "        #상세페이지 url 추출\n",
    "        detail_url = div_tag.select_one('a')['href']\n",
    "        detail_url = urljoin(req_url,detail_url)\n",
    "        \n",
    "        name = div_tag.text\n",
    "        name_result = re.sub('\\(\\w*\\)','',name)\n",
    "        print(name_result, detail_url)\n",
    "                       \n",
    "        res = requests.get(detail_url)\n",
    "        if res.ok:\n",
    "            soup = BeautifulSoup(res.text,'html.parser')\n",
    "            for li_tag in soup.select('ul.default_info li'):\n",
    "                actor_dict_key = li_tag.select_one('span.tit').text\n",
    "                #print(li_tag)\n",
    "                #<li><span class=\"tit\">직업</span>배우</li> => <li>배우</li>\n",
    "                li_result = re.sub('<span.*>.*<\\/span>','',str(li_tag))\n",
    "                #<li>배우</li> => 배우\n",
    "                actor_dict_value = re.sub('<.*?>','',li_result)\n",
    "                regex = re.compile(r'[\\n\\r\\t]')\n",
    "                actor_dict_value = regex.sub(' ',actor_dict_value)        \n",
    "                print(actor_dict_key,actor_dict_value)\n",
    "        print('===========================')\n"
   ]
  },
  {
   "cell_type": "markdown",
   "metadata": {},
   "source": [
    "### 2단계 \n",
    "* 1 page 7명의 이름,흥행지수,랭킹과 상세정보 추출\n",
    "* 배우의 정보는 dict에 저장하고, dict를 list에 저장한다."
   ]
  },
  {
   "cell_type": "code",
   "execution_count": null,
   "metadata": {},
   "outputs": [],
   "source": []
  },
  {
   "cell_type": "markdown",
   "metadata": {},
   "source": [
    "### 3단계 \n",
    "* 1,2,3 page 21명의 이름,흥행지수,랭킹과 상세정보 추출\n",
    "* 배우의 정보는 dict에 저장하고, dict를 list에 저장한다."
   ]
  },
  {
   "cell_type": "code",
   "execution_count": null,
   "metadata": {},
   "outputs": [],
   "source": []
  },
  {
   "cell_type": "markdown",
   "metadata": {},
   "source": [
    "### 4단계 \n",
    "* 모든 page의 배우 이름,흥행지수,랭킹과 상세정보 추출\n",
    "* 배우의 정보는 dict에 저장하고, dict를 list에 저장한다.\n",
    "* itertools 모듈의 count() 함수를 사용하여 무한 Looping\n",
    " - 무한 Loop를 탈출할 수 있는 조건\n",
    " - actor_li_tag = soup.select('li.people_li') 의 actor_list_tag의 길이가 0 이면 탈출"
   ]
  },
  {
   "cell_type": "code",
   "execution_count": null,
   "metadata": {},
   "outputs": [],
   "source": []
  },
  {
   "cell_type": "markdown",
   "metadata": {},
   "source": [
    "### 5단계\n",
    "* actor_detail_final_list를 actors.json 파일로 저장하기"
   ]
  },
  {
   "cell_type": "code",
   "execution_count": null,
   "metadata": {},
   "outputs": [],
   "source": []
  }
 ],
 "metadata": {
  "kernelspec": {
   "display_name": "Python 3",
   "language": "python",
   "name": "python3"
  },
  "language_info": {
   "codemirror_mode": {
    "name": "ipython",
    "version": 3
   },
   "file_extension": ".py",
   "mimetype": "text/x-python",
   "name": "python",
   "nbconvert_exporter": "python",
   "pygments_lexer": "ipython3",
   "version": "3.8.8"
  }
 },
 "nbformat": 4,
 "nbformat_minor": 4
}
